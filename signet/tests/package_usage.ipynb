{
 "cells": [
  {
   "cell_type": "markdown",
   "metadata": {},
   "source": [
    "# Comparing signed clustering algorithms using SigNet"
   ]
  },
  {
   "cell_type": "code",
   "execution_count": 43,
   "metadata": {
    "collapsed": true
   },
   "outputs": [],
   "source": [
    "# import the relevant classes and functions from signet\n",
    "\n",
    "from signet.cluster import Cluster\n",
    "from signet.block_models import SSBM\n",
    "from sklearn.metrics import adjusted_rand_score\n"
   ]
  },
  {
   "cell_type": "code",
   "execution_count": 35,
   "metadata": {},
   "outputs": [],
   "source": [
    "# generate a random graph with community structure by the signed stochastic block model \n",
    "\n",
    "n = 5000    # number of nodes\n",
    "k = 15      # number of communities\n",
    "eta = 0.05  # sign flipping probability\n",
    "p = 0.01    # edge probability\n",
    "\n",
    "(A_p, A_n), true_assign = SSBM(n = n, k = k, pin=p, etain=eta) "
   ]
  },
  {
   "cell_type": "code",
   "execution_count": 36,
   "metadata": {},
   "outputs": [],
   "source": [
    "# initialise the Cluster object with the data (adjacency matrix of positive and negative graph)\n",
    "\n",
    "c = Cluster((A_p, A_n))"
   ]
  },
  {
   "cell_type": "code",
   "execution_count": 39,
   "metadata": {},
   "outputs": [],
   "source": [
    "# calculate the assignments provided by the algorithms you want to analyse\n",
    "\n",
    "A_assign = c.spectral_cluster_adjacency(k = k)\n",
    "\n",
    "L_assign = c.spectral_cluster_laplacian(k = k, normalisation='sym')\n",
    "\n",
    "SPONGE_assign = c.geproblem_laplacian(k = k, normalisation='additive')\n",
    "\n",
    "SPONGEsym_assign = c.geproblem_laplacian(k = k, normalisation='multiplicative')\n"
   ]
  },
  {
   "cell_type": "code",
   "execution_count": 40,
   "metadata": {},
   "outputs": [
    {
     "name": "stdout",
     "output_type": "stream",
     "text": [
      "score_A:  0.638342339376121\nscore_L:  0.011184439304956226\nscore_SPONGE:  0.041242984040083946\nscore_SPONGEsym:  0.5113251430507669\n"
     ]
    }
   ],
   "source": [
    "# compute the recovery score of the algorithms against the SSBM ground truth\n",
    "\n",
    "score_A = adjusted_rand_score(A_assign, true_assign)\n",
    "\n",
    "score_L = adjusted_rand_score(L_assign, true_assign)\n",
    "\n",
    "score_SPONGE = adjusted_rand_score(SPONGE_assign, true_assign)\n",
    "\n",
    "score_SPONGEsym = adjusted_rand_score(SPONGEsym_assign, true_assign)\n",
    "\n",
    "print('score_A: ', score_A)\n",
    "print('score_L: ', score_L)\n",
    "print('score_SPONGE: ', score_SPONGE)\n",
    "print('score_SPONGEsym: ', score_SPONGEsym)"
   ]
  },
  {
   "cell_type": "code",
   "execution_count": null,
   "metadata": {},
   "outputs": [],
   "source": []
  },
  {
   "cell_type": "code",
   "execution_count": null,
   "metadata": {},
   "outputs": [],
   "source": [
    ""
   ]
  }
 ],
 "metadata": {
  "kernelspec": {
   "display_name": "Python 2",
   "language": "python",
   "name": "python2"
  },
  "language_info": {
   "codemirror_mode": {
    "name": "ipython",
    "version": 2
   },
   "file_extension": ".py",
   "mimetype": "text/x-python",
   "name": "python",
   "nbconvert_exporter": "python",
   "pygments_lexer": "ipython2",
   "version": "2.7.6"
  }
 },
 "nbformat": 4,
 "nbformat_minor": 0
}
