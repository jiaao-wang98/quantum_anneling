{
 "cells": [
  {
   "cell_type": "code",
   "execution_count": 41,
   "id": "66090033",
   "metadata": {},
   "outputs": [
    {
     "name": "stdout",
     "output_type": "stream",
     "text": [
      "[(1, 2), (2, 3), (3, 4), (3, 2), (4, 1)]\n",
      "(1, 2)\n",
      "Error: Different edges have the same starting vertex!\n",
      "False\n"
     ]
    }
   ],
   "source": [
    "import networkx as nx\n",
    "\n",
    "def solutionCheck(G0, G):\n",
    "    '''\n",
    "    Check whether a graph G0 = (V, E0) is a partition of a \n",
    "    graph G = (V, E) into Hamiltonian subgraphs with three \n",
    "    or more vertices.\n",
    "    '''\n",
    "    while(True):\n",
    "        # Initialization. \n",
    "        C_V, C_E = [], []\n",
    "        v_start = list(G0.nodes)[0]\n",
    "        v_from = v_start\n",
    "        \n",
    "        while(True):\n",
    "            # Find the edges going out of v_from.\n",
    "            E_from = [e for e in list(G0.edges) if e[0] == v_from]\n",
    "            \n",
    "            # If there is exactly one element e.\n",
    "            if (len(E_from) == 1):\n",
    "                C_V.append(v_from)\n",
    "                e = E_from[0]\n",
    "                C_E.append(e)\n",
    "            else:\n",
    "                print('Error: Different edges have the same starting vertex!')\n",
    "                return False\n",
    "            \n",
    "            # Assign the vertex pointed by e.\n",
    "            v_to = e[1]\n",
    "            \n",
    "            if (v_to != v_start) and ((v_to in C_V) or (C_E == list(G0.edges))):\n",
    "                print('Error: Circle is not closed!')\n",
    "                return False\n",
    "            \n",
    "            v_from = v_to\n",
    "            \n",
    "            # End the loop.\n",
    "            if v_to == v_start:\n",
    "                break\n",
    "            \n",
    "        if len(C_V) == 2:\n",
    "            print('Error: Circle with length 2!')\n",
    "            return False\n",
    "        \n",
    "        elif len(C_V) >= 3:\n",
    "            G0.remove_nodes_from(C_V)\n",
    "            G0.remove_edges_from(C_E)\n",
    "\n",
    "        # End the loop.\n",
    "        if list(G0.nodes) == [] and list(G0.edges) == []:\n",
    "            break\n",
    "    \n",
    "    return True\n",
    "\n",
    "G = nx.DiGraph()\n",
    "G0 = nx.DiGraph()\n",
    "\n",
    "G0.add_nodes_from({1, 2, 3, 4})\n",
    "G0.add_edges_from({(1, 2), (2, 3), (3, 4), (1, 4)})\n",
    "\n",
    "G.add_nodes_from({1, 2, 3, 4})\n",
    "G.add_edges_from({(1, 2), (2, 3), (3, 4), (4, 1), (3, 2)})\n",
    "\n",
    "print(G.edges)\n",
    "print(list(G.edges)[0])\n",
    "\n",
    "print(solutionCheck(G0, G))"
   ]
  },
  {
   "cell_type": "code",
   "execution_count": null,
   "id": "483f20df",
   "metadata": {},
   "outputs": [],
   "source": []
  }
 ],
 "metadata": {
  "kernelspec": {
   "display_name": "Python 3",
   "language": "python",
   "name": "python3"
  },
  "language_info": {
   "codemirror_mode": {
    "name": "ipython",
    "version": 3
   },
   "file_extension": ".py",
   "mimetype": "text/x-python",
   "name": "python",
   "nbconvert_exporter": "python",
   "pygments_lexer": "ipython3",
   "version": "3.8.8"
  }
 },
 "nbformat": 4,
 "nbformat_minor": 5
}
